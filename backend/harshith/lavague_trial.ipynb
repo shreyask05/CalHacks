{
 "cells": [
  {
   "cell_type": "code",
   "execution_count": 1,
   "metadata": {},
   "outputs": [
    {
     "name": "stderr",
     "output_type": "stream",
     "text": [
      "c:\\Users\\harsh\\anaconda3\\Lib\\site-packages\\lavague\\core\\__init__.py:21: UserWarning: \u001b[93mTelemetry is turned on. To turn off telemetry, set your LAVAGUE_TELEMETRY to 'NONE'\u001b[0m\n",
      "  warnings.warn(warning_message, UserWarning)\n",
      "c:\\Users\\harsh\\anaconda3\\Lib\\site-packages\\tqdm\\auto.py:21: TqdmWarning: IProgress not found. Please update jupyter and ipywidgets. See https://ipywidgets.readthedocs.io/en/stable/user_install.html\n",
      "  from .autonotebook import tqdm as notebook_tqdm\n",
      "2024-10-19 10:26:00,323 - INFO - Screenshot folder cleared\n",
      "2024-10-19 10:26:06,100 - INFO - Thoughts:\n",
      "- The screenshot shows the Hugging Face website, which is a platform for sharing and collaborating on machine learning models, datasets, and applications.\n",
      "- The objective is to find the top Space of the week.\n",
      "- The screenshot shows a section titled \"Trending on this week\" with a list of Spaces.\n",
      "- The top Space is the one with the most hearts.\n",
      "- The Space with the most hearts is \"Kolars Virtual Try-On\".\n",
      "Next engine: COMPLETE\n",
      "Instruction: Kolars Virtual Try-On is this week's top Space.\n",
      "2024-10-19 10:26:06,102 - INFO - Objective reached. Stopping...\n"
     ]
    },
    {
     "data": {
      "text/plain": [
       "ActionResult(instruction=None, code='from selenium import webdriver\\nfrom selenium.webdriver.common.by import By\\nfrom selenium.webdriver.chrome.options import Options\\nfrom selenium.webdriver.common.keys import Keys\\nfrom selenium.webdriver.common.action_chains import ActionChains\\nfrom lavague.core.base_driver import JS_SETUP_GET_EVENTS\\n\\nelse:\\nchrome_options = Options()\\nchrome_options.add_argument(\"--headless=new\")\\nuser_agent = \"Mozilla/5.0 (Windows NT 10.0; WOW64) AppleWebKit/537.36 (KHTML, like Gecko) Chrome/107.0.0.0 Safari/537.36\"\\nchrome_options.add_argument(f\"user-agent={user_agent}\")\\nchrome_options.add_argument(\"--no-sandbox\")\\nchrome_options.page_load_strategy = \"normal\"\\nchrome_options.add_argument(\"--disable-web-security\")\\nchrome_options.add_argument(\"--disable-site-isolation-trials\")\\nchrome_options.set_capability(\"goog:loggingPrefs\", {\"performance\": \"ALL\"})\\n\\nchrome_options.add_experimental_option(\"debuggerAddress\", \"localhost:9223\")\\n)\\n\\n# 538: browserbase implementation - move execute_cdp_cmd to inner block to avoid error\\n# AttributeError: \\'WebDriver\\' object has no attribute \\'execute_cdp_cmd\\'\\n\"Page.addScriptToEvaluateOnNewDocument\",\\n{\"source\": JS_SETUP_GET_EVENTS},\\n)\\n\\ndriver.set_window_size(1080, 1080)\\nviewport_height = driver.execute_script(\"return window.innerHeight;\")\\nheight_difference = 1080 - viewport_height\\ndriver.set_window_size(1080, 1080 + height_difference)\\n\\ndriver.get(\"https://huggingface.co/\")\\n', success=True, output=\"Kolars Virtual Try-On is this week's top Space.\", total_estimated_tokens=0, total_estimated_cost=0.0)"
      ]
     },
     "execution_count": 1,
     "metadata": {},
     "output_type": "execute_result"
    }
   ],
   "source": [
    "from lavague.core import WorldModel, ActionEngine\n",
    "from lavague.core.agents import WebAgent\n",
    "from lavague.drivers.selenium import SeleniumDriver\n",
    "from lavague.contexts.gemini import GeminiContext\n",
    "\n",
    "from dotenv import load_dotenv, find_dotenv\n",
    "load_dotenv(find_dotenv())\n",
    "\n",
    "# Initialize Context\n",
    "context = GeminiContext(llm=\"models/gemini-1.5-pro\", mm_llm=\"models/gemini-1.5-flash\")\n",
    "\n",
    "selenium_driver = SeleniumDriver()\n",
    "\n",
    "# Build Action Engine and World Model from Context\n",
    "action_engine = ActionEngine.from_context(context=context, driver=selenium_driver)\n",
    "world_model = WorldModel.from_context(context)\n",
    "\n",
    "# Build agent & run query\n",
    "agent = WebAgent(world_model, action_engine)\n",
    "agent.get(\"https://huggingface.co/\")\n",
    "agent.run(\"What is this week's top Space of the week?\")"
   ]
  },
  {
   "cell_type": "code",
   "execution_count": null,
   "metadata": {},
   "outputs": [],
   "source": []
  }
 ],
 "metadata": {
  "kernelspec": {
   "display_name": "Python 3",
   "language": "python",
   "name": "python3"
  },
  "language_info": {
   "codemirror_mode": {
    "name": "ipython",
    "version": 3
   },
   "file_extension": ".py",
   "mimetype": "text/x-python",
   "name": "python",
   "nbconvert_exporter": "python",
   "pygments_lexer": "ipython3",
   "version": "3.12.4"
  }
 },
 "nbformat": 4,
 "nbformat_minor": 2
}
