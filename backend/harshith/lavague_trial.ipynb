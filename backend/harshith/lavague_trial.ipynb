{
 "cells": [
  {
   "cell_type": "code",
   "execution_count": 4,
   "metadata": {},
   "outputs": [
    {
     "name": "stderr",
     "output_type": "stream",
     "text": [
      "2024-10-19 16:18:04,764 - INFO - Screenshot folder cleared\n",
      "2024-10-19 16:18:11,446 - INFO - Thoughts:\n",
      "- The screenshot shows the Hugging Face website, which is a platform for sharing and collaborating on machine learning models, datasets, and applications.\n",
      "- The objective is to find the top Space of the week.\n",
      "- The screenshot shows a section titled \"Trending on this week\" with a list of Spaces.\n",
      "- The top Space of the week is likely to be the one with the highest number of hearts.\n",
      "- The Space with the highest number of hearts is 'FS-TTS' with 592 hearts.\n",
      "Next engine: COMPLETE\n",
      "Instruction: The top Space of the week is 'FS-TTS'.\n",
      "2024-10-19 16:18:11,448 - INFO - Objective reached. Stopping...\n"
     ]
    },
    {
     "data": {
      "text/plain": [
       "ActionResult(instruction=None, code='from selenium import webdriver\\nfrom selenium.webdriver.common.by import By\\nfrom selenium.webdriver.chrome.options import Options\\nfrom selenium.webdriver.common.keys import Keys\\nfrom selenium.webdriver.common.action_chains import ActionChains\\nfrom lavague.core.base_driver import JS_SETUP_GET_EVENTS\\n\\nelse:\\nchrome_options = Options()\\nchrome_options.add_argument(\"--headless=new\")\\nuser_agent = \"Mozilla/5.0 (Windows NT 10.0; WOW64) AppleWebKit/537.36 (KHTML, like Gecko) Chrome/107.0.0.0 Safari/537.36\"\\nchrome_options.add_argument(f\"user-agent={user_agent}\")\\nchrome_options.add_argument(\"--no-sandbox\")\\nchrome_options.page_load_strategy = \"normal\"\\nchrome_options.add_argument(\"--disable-web-security\")\\nchrome_options.add_argument(\"--disable-site-isolation-trials\")\\nchrome_options.set_capability(\"goog:loggingPrefs\", {\"performance\": \"ALL\"})\\n\\nchrome_options.add_experimental_option(\"debuggerAddress\", \"localhost:9223\")\\n)\\n\\n# 538: browserbase implementation - move execute_cdp_cmd to inner block to avoid error\\n# AttributeError: \\'WebDriver\\' object has no attribute \\'execute_cdp_cmd\\'\\n\"Page.addScriptToEvaluateOnNewDocument\",\\n{\"source\": JS_SETUP_GET_EVENTS},\\n)\\n\\ndriver.set_window_size(1080, 1080)\\nviewport_height = driver.execute_script(\"return window.innerHeight;\")\\nheight_difference = 1080 - viewport_height\\ndriver.set_window_size(1080, 1080 + height_difference)\\n\\ndriver.get(\"https://huggingface.co/\")\\n', success=True, output=\"The top Space of the week is 'FS-TTS'.\", total_estimated_tokens=0, total_estimated_cost=0.0)"
      ]
     },
     "execution_count": 4,
     "metadata": {},
     "output_type": "execute_result"
    }
   ],
   "source": [
    "from lavague.core import WorldModel, ActionEngine\n",
    "from lavague.core.agents import WebAgent\n",
    "from lavague.drivers.selenium import SeleniumDriver\n",
    "from lavague.contexts.gemini import GeminiContext\n",
    "\n",
    "from dotenv import load_dotenv, find_dotenv\n",
    "load_dotenv(find_dotenv())\n",
    "\n",
    "# Initialize Context\n",
    "context = GeminiContext(llm=\"models/gemini-1.5-pro\", mm_llm=\"models/gemini-1.5-flash\")\n",
    "\n",
    "selenium_driver = SeleniumDriver()\n",
    "\n",
    "# Build Action Engine and World Model from Context\n",
    "action_engine = ActionEngine.from_context(context=context, driver=selenium_driver)\n",
    "world_model = WorldModel.from_context(context)\n",
    "\n",
    "# Build agent & run query\n",
    "agent = WebAgent(world_model, action_engine)\n",
    "agent.get(\"https://huggingface.co/\")\n",
    "agent.run(\"What is this week's top Space of the week?\")"
   ]
  },
  {
   "cell_type": "code",
   "execution_count": null,
   "metadata": {},
   "outputs": [
    {
     "name": "stderr",
     "output_type": "stream",
     "text": [
      "2024-10-19 16:29:00,377 - INFO - Thoughts:\n",
      "- The screenshot shows the MyUCLA website.\n",
      "- The objective is to state that users can access the MyUCLA website by entering the URL or clicking on a link.\n",
      "- This is already visible in the screenshot.\n",
      "- The objective has been achieved.\n",
      "Next engine: COMPLETE\n",
      "Instruction: Users can access the MyUCLA website by entering the URL or clicking on a link.\n",
      "2024-10-19 16:29:00,378 - INFO - Objective reached. Stopping...\n"
     ]
    },
    {
     "name": "stdout",
     "output_type": "stream",
     "text": [
      "Failed to delete screenshots\\aac39998f7766ae0a08c9345e3e3a12b\\c5be9b6b56fa66d5be8497ea233ad12f.png. Reason: [WinError 32] The process cannot access the file because it is being used by another process: 'screenshots\\\\aac39998f7766ae0a08c9345e3e3a12b\\\\c5be9b6b56fa66d5be8497ea233ad12f.png'\n"
     ]
    },
    {
     "name": "stderr",
     "output_type": "stream",
     "text": [
      "2024-10-19 16:29:03,749 - INFO - Thoughts:\n",
      "- The screenshot shows the homepage of MyUCLA, a website for UCLA students, faculty, and staff.\n",
      "- The objective is to identify the navigation menu.\n",
      "- The navigation menu is clearly visible at the top of the page.\n",
      "- The navigation menu contains links to different sections of the website, such as \"New to UCLA?\", \"Alumni\", \"Students\", \"Bruin True\", \"Faculty/Staff\", \"Community\", \"Webmail\", \"Campus\", and \"Traffic\".\n",
      "- The objective can be easily achieved by directly reading the information from the screenshot.\n",
      "Next engine: COMPLETE\n",
      "Instruction: The navigation menu is located at the top of the page and contains links to different sections of the website, such as \"New to UCLA?\", \"Alumni\", \"Students\", \"Bruin True\", \"Faculty/Staff\", \"Community\", \"Webmail\", \"Campus\", and \"Traffic\".\n",
      "2024-10-19 16:29:03,750 - INFO - Objective reached. Stopping...\n"
     ]
    },
    {
     "name": "stdout",
     "output_type": "stream",
     "text": [
      "Failed to delete screenshots\\aac39998f7766ae0a08c9345e3e3a12b\\c5be9b6b56fa66d5be8497ea233ad12f.png. Reason: [WinError 32] The process cannot access the file because it is being used by another process: 'screenshots\\\\aac39998f7766ae0a08c9345e3e3a12b\\\\c5be9b6b56fa66d5be8497ea233ad12f.png'\n",
      "Failed to delete screenshots\\aac39998f7766ae0a08c9345e3e3a12b\\d5e50a888d388817da170e495dae40ef.png. Reason: [WinError 32] The process cannot access the file because it is being used by another process: 'screenshots\\\\aac39998f7766ae0a08c9345e3e3a12b\\\\d5e50a888d388817da170e495dae40ef.png'\n"
     ]
    },
    {
     "name": "stderr",
     "output_type": "stream",
     "text": [
      "2024-10-19 16:29:07,029 - INFO - Thoughts:\n",
      "- The screenshot shows the homepage of the MyUCLA website.\n",
      "- The objective is to verify if the current date and time are displayed on the website.\n",
      "- The date and time are visible in the top right corner of the screenshot.\n",
      "- The date and time are displayed as \"Sat | October 19, 2024 | Fall 2024, Week 3\".\n",
      "- The objective is achieved.\n",
      "\n",
      "Next engine: COMPLETE\n",
      "Instruction: The current date and time are displayed on the website as \"Sat | October 19, 2024 | Fall 2024, Week 3\".\n",
      "2024-10-19 16:29:07,030 - INFO - Objective reached. Stopping...\n"
     ]
    },
    {
     "name": "stdout",
     "output_type": "stream",
     "text": [
      "Failed to delete screenshots\\aac39998f7766ae0a08c9345e3e3a12b\\1e5886d551a23b7942fdee7f390d20f7.png. Reason: [WinError 32] The process cannot access the file because it is being used by another process: 'screenshots\\\\aac39998f7766ae0a08c9345e3e3a12b\\\\1e5886d551a23b7942fdee7f390d20f7.png'\n",
      "Failed to delete screenshots\\aac39998f7766ae0a08c9345e3e3a12b\\c5be9b6b56fa66d5be8497ea233ad12f.png. Reason: [WinError 32] The process cannot access the file because it is being used by another process: 'screenshots\\\\aac39998f7766ae0a08c9345e3e3a12b\\\\c5be9b6b56fa66d5be8497ea233ad12f.png'\n",
      "Failed to delete screenshots\\aac39998f7766ae0a08c9345e3e3a12b\\d5e50a888d388817da170e495dae40ef.png. Reason: [WinError 32] The process cannot access the file because it is being used by another process: 'screenshots\\\\aac39998f7766ae0a08c9345e3e3a12b\\\\d5e50a888d388817da170e495dae40ef.png'\n"
     ]
    },
    {
     "name": "stderr",
     "output_type": "stream",
     "text": [
      "2024-10-19 16:29:09,964 - INFO - Thoughts:\n",
      "- The screenshot shows the homepage of MyUCLA, a website for UCLA students, faculty, and staff.\n",
      "- The objective is to find a list of events and their details, including the event description, organization, and time.\n",
      "- The screenshot shows a section titled \"Events\" with a list of events for the dates Saturday, October 19 and Sunday, October 20.\n",
      "- Each event has a description, organization, and time.\n",
      "- The next step is to scan the whole page to capture all the events and their details.\n",
      "Next engine: Navigation Controls\n",
      "Instruction: SCAN\n",
      "2024-10-19 16:29:25,693 - WARNING - The agent was interrupted.\n"
     ]
    },
    {
     "name": "stdout",
     "output_type": "stream",
     "text": [
      "Failed to delete screenshots\\aac39998f7766ae0a08c9345e3e3a12b\\1e5886d551a23b7942fdee7f390d20f7.png. Reason: [WinError 32] The process cannot access the file because it is being used by another process: 'screenshots\\\\aac39998f7766ae0a08c9345e3e3a12b\\\\1e5886d551a23b7942fdee7f390d20f7.png'\n",
      "Failed to delete screenshots\\aac39998f7766ae0a08c9345e3e3a12b\\c5be9b6b56fa66d5be8497ea233ad12f.png. Reason: [WinError 32] The process cannot access the file because it is being used by another process: 'screenshots\\\\aac39998f7766ae0a08c9345e3e3a12b\\\\c5be9b6b56fa66d5be8497ea233ad12f.png'\n",
      "Failed to delete screenshots\\aac39998f7766ae0a08c9345e3e3a12b\\d5e50a888d388817da170e495dae40ef.png. Reason: [WinError 32] The process cannot access the file because it is being used by another process: 'screenshots\\\\aac39998f7766ae0a08c9345e3e3a12b\\\\d5e50a888d388817da170e495dae40ef.png'\n"
     ]
    },
    {
     "name": "stderr",
     "output_type": "stream",
     "text": [
      "2024-10-19 16:29:29,782 - INFO - Thoughts:\n",
      "- The screenshot shows the MyUCLA website, which is a portal for UCLA students, faculty, and staff.\n",
      "- The objective is to create a button that toggles the display of event details.\n",
      "- The current page already has a button that toggles the display of event details.\n",
      "- The button is located next to the event title and has a '>' symbol.\n",
      "- The button is already functional and toggles the display of event details.\n",
      "- Therefore, the objective has already been achieved.\n",
      "\n",
      "Next engine: COMPLETE\n",
      "Instruction: [NONE]\n",
      "2024-10-19 16:29:29,782 - INFO - Objective reached. Stopping...\n"
     ]
    },
    {
     "name": "stdout",
     "output_type": "stream",
     "text": [
      "Failed to delete screenshots\\aac39998f7766ae0a08c9345e3e3a12b\\1e5886d551a23b7942fdee7f390d20f7.png. Reason: [WinError 32] The process cannot access the file because it is being used by another process: 'screenshots\\\\aac39998f7766ae0a08c9345e3e3a12b\\\\1e5886d551a23b7942fdee7f390d20f7.png'\n",
      "Failed to delete screenshots\\aac39998f7766ae0a08c9345e3e3a12b\\48b8721ccb1ede31dadc091f693ab002.png. Reason: [WinError 32] The process cannot access the file because it is being used by another process: 'screenshots\\\\aac39998f7766ae0a08c9345e3e3a12b\\\\48b8721ccb1ede31dadc091f693ab002.png'\n",
      "Failed to delete screenshots\\aac39998f7766ae0a08c9345e3e3a12b\\c5be9b6b56fa66d5be8497ea233ad12f.png. Reason: [WinError 32] The process cannot access the file because it is being used by another process: 'screenshots\\\\aac39998f7766ae0a08c9345e3e3a12b\\\\c5be9b6b56fa66d5be8497ea233ad12f.png'\n",
      "Failed to delete screenshots\\aac39998f7766ae0a08c9345e3e3a12b\\d5e50a888d388817da170e495dae40ef.png. Reason: [WinError 32] The process cannot access the file because it is being used by another process: 'screenshots\\\\aac39998f7766ae0a08c9345e3e3a12b\\\\d5e50a888d388817da170e495dae40ef.png'\n"
     ]
    },
    {
     "name": "stderr",
     "output_type": "stream",
     "text": [
      "2024-10-19 16:29:33,776 - INFO - Thoughts:\n",
      "- The screenshot shows the MyUCLA page, which is a portal for UCLA students, faculty, and staff.\n",
      "- The objective is to find a list of events that are currently happening, marked as 'Happening Now'.\n",
      "- The screenshot shows a list of events under the 'Events' section.\n",
      "- The 'Events' section has a list of events with dates and times, and some events are marked as 'Happening Now'.\n",
      "- The objective has been achieved.\n",
      "\n",
      "Next engine: COMPLETE\n",
      "Instruction: The events marked as 'Happening Now' are: 'My Garden of a Thousand Bees' and 'Tech Decay: Neptune Frost'.\n",
      "2024-10-19 16:29:33,777 - INFO - Objective reached. Stopping...\n"
     ]
    },
    {
     "name": "stdout",
     "output_type": "stream",
     "text": [
      "Failed to delete screenshots\\aac39998f7766ae0a08c9345e3e3a12b\\1e5886d551a23b7942fdee7f390d20f7.png. Reason: [WinError 32] The process cannot access the file because it is being used by another process: 'screenshots\\\\aac39998f7766ae0a08c9345e3e3a12b\\\\1e5886d551a23b7942fdee7f390d20f7.png'\n",
      "Failed to delete screenshots\\aac39998f7766ae0a08c9345e3e3a12b\\48b8721ccb1ede31dadc091f693ab002.png. Reason: [WinError 32] The process cannot access the file because it is being used by another process: 'screenshots\\\\aac39998f7766ae0a08c9345e3e3a12b\\\\48b8721ccb1ede31dadc091f693ab002.png'\n",
      "Failed to delete screenshots\\aac39998f7766ae0a08c9345e3e3a12b\\c5be9b6b56fa66d5be8497ea233ad12f.png. Reason: [WinError 32] The process cannot access the file because it is being used by another process: 'screenshots\\\\aac39998f7766ae0a08c9345e3e3a12b\\\\c5be9b6b56fa66d5be8497ea233ad12f.png'\n",
      "Failed to delete screenshots\\aac39998f7766ae0a08c9345e3e3a12b\\d5e50a888d388817da170e495dae40ef.png. Reason: [WinError 32] The process cannot access the file because it is being used by another process: 'screenshots\\\\aac39998f7766ae0a08c9345e3e3a12b\\\\d5e50a888d388817da170e495dae40ef.png'\n"
     ]
    }
   ],
   "source": [
    "import json\n",
    "with open('../log.json') as f:\n",
    "    groq_output_json = json.load(f)\n",
    "agent.get(\"https://my.ucla.edu/\")\n",
    "for item in groq_output_json['items']:\n",
    "    agent.run(item[\"description\"])"
   ]
  },
  {
   "cell_type": "code",
   "execution_count": null,
   "metadata": {},
   "outputs": [],
   "source": []
  }
 ],
 "metadata": {
  "kernelspec": {
   "display_name": "Python 3",
   "language": "python",
   "name": "python3"
  },
  "language_info": {
   "codemirror_mode": {
    "name": "ipython",
    "version": 3
   },
   "file_extension": ".py",
   "mimetype": "text/x-python",
   "name": "python",
   "nbconvert_exporter": "python",
   "pygments_lexer": "ipython3",
   "version": "3.11.9"
  }
 },
 "nbformat": 4,
 "nbformat_minor": 2
}
